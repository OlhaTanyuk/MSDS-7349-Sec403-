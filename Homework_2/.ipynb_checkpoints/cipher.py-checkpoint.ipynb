{
 "cells": [
  {
   "cell_type": "markdown",
   "metadata": {},
   "source": [
    "# Intro Code"
   ]
  },
  {
   "cell_type": "code",
   "execution_count": 1,
   "metadata": {},
   "outputs": [
    {
     "name": "stdout",
     "output_type": "stream",
     "text": [
      "97 a\n"
     ]
    }
   ],
   "source": [
    "letter = 'a'\n",
    "#converts a letter to ascii code \n",
    "asciiCode = ord(letter)\n",
    "#converts ascii code to a letter \n",
    "letterRes = chr(asciiCode)\n",
    "print (asciiCode, letterRes)"
   ]
  },
  {
   "cell_type": "markdown",
   "metadata": {},
   "source": [
    "# Question 1"
   ]
  },
  {
   "cell_type": "markdown",
   "metadata": {},
   "source": [
    "### Part 1"
   ]
  },
  {
   "cell_type": "code",
   "execution_count": 2,
   "metadata": {},
   "outputs": [
    {
     "name": "stdout",
     "output_type": "stream",
     "text": [
      "what string you would like to encrypt: hi\n",
      "what shift value would you like to use: 2\n",
      "h\n",
      "hi\n"
     ]
    }
   ],
   "source": [
    "# get text for exercise \n",
    "Text_to_Encrypt= input(\"what string you would like to encrypt: \")\n",
    "Shift_Value = int(input(\"what shift value would you like to use: \"))\n",
    "a=0\n",
    "encodedPhrase = \"\"\n",
    "for c in Text_to_Encrypt:\n",
    "    encodedPhrase = encodedPhrase + c\n",
    " \n",
    "    print(encodedPhrase)\n",
    "    \n",
    "\n",
    "\n"
   ]
  },
  {
   "cell_type": "markdown",
   "metadata": {},
   "source": [
    "### Part 2"
   ]
  },
  {
   "cell_type": "code",
   "execution_count": 20,
   "metadata": {},
   "outputs": [
    {
     "name": "stdout",
     "output_type": "stream",
     "text": [
      "what string you would like to encrypt: Hi There!!!\n",
      "what shift value would you like to use: 2\n",
      "Xx Xxxxx!!!\n"
     ]
    }
   ],
   "source": [
    "# get text for exercise \n",
    "Text_to_Encrypt= input(\"what string you would like to encrypt: \")\n",
    "Shift_Value = int(input(\"what shift value would you like to use: \"))\n",
    "\n",
    "encodedPhrase = \"\"\n",
    "\n",
    "for c in Text_to_Encrypt:\n",
    "    \n",
    "    if c.isalpha() == False:\n",
    "        c = c\n",
    "    elif c.isupper() == True: \n",
    "        c = \"X\"\n",
    "    else:\n",
    "        c = \"x\"  \n",
    "        \n",
    "    encodedPhrase = encodedPhrase + c\n",
    "\n",
    "print (encodedPhrase)"
   ]
  },
  {
   "cell_type": "markdown",
   "metadata": {},
   "source": [
    "### Part 3"
   ]
  },
  {
   "cell_type": "markdown",
   "metadata": {},
   "source": []
  },
  {
   "cell_type": "code",
   "execution_count": 66,
   "metadata": {},
   "outputs": [
    {
     "name": "stdout",
     "output_type": "stream",
     "text": [
      "what string you would like to encrypt: Mayday! Mayday!\n",
      "what shift value would you like to use: 4\n",
      "Qechec! Qechec!\n"
     ]
    }
   ],
   "source": [
    "## get text for exercise \n",
    "Text_to_Encrypt= input(\"what string you would like to encrypt: \")\n",
    "Shift_Value = int(input(\"what shift value would you like to use: \"))\n",
    "\n",
    "encodedPhrase = \"\"\n",
    "\n",
    "for c in Text_to_Encrypt:\n",
    "    \n",
    "    if c.isalpha() == False:\n",
    "        c = c\n",
    "    elif c.isupper() == True: \n",
    "        asciiCode = (ord(c))+ Shift_Value\n",
    "        if asciiCode > 90:\n",
    "            asciiCode= asciiCode - 26   \n",
    "        letterRes = chr(asciiCode)\n",
    "        c = letterRes\n",
    "    else:\n",
    "        asciiCode = ord(c)+ Shift_Value\n",
    "        if asciiCode > 122:\n",
    "            asciiCode= asciiCode - 26   \n",
    "        letterRes = chr(asciiCode)\n",
    "        c = letterRes\n",
    "    encodedPhrase = encodedPhrase + c\n",
    "\n",
    "print (encodedPhrase)"
   ]
  },
  {
   "cell_type": "code",
   "execution_count": 63,
   "metadata": {},
   "outputs": [
    {
     "data": {
      "text/plain": [
       "29"
      ]
     },
     "execution_count": 63,
     "metadata": {},
     "output_type": "execute_result"
    }
   ],
   "source": [
    "ord(\"y\")+4-96"
   ]
  },
  {
   "cell_type": "code",
   "execution_count": 57,
   "metadata": {},
   "outputs": [
    {
     "name": "stdout",
     "output_type": "stream",
     "text": [
      "3\n"
     ]
    }
   ],
   "source": [
    "print(125%122)"
   ]
  },
  {
   "cell_type": "code",
   "execution_count": 30,
   "metadata": {},
   "outputs": [
    {
     "ename": "TypeError",
     "evalue": "'int' object is not iterable",
     "output_type": "error",
     "traceback": [
      "\u001b[1;31m---------------------------------------------------------------------------\u001b[0m",
      "\u001b[1;31mTypeError\u001b[0m                                 Traceback (most recent call last)",
      "\u001b[1;32m<ipython-input-30-6eb163f9d7b3>\u001b[0m in \u001b[0;36m<module>\u001b[1;34m()\u001b[0m\n\u001b[0;32m      1\u001b[0m \u001b[0mtest\u001b[0m \u001b[1;33m=\u001b[0m \u001b[1;36m456789\u001b[0m\u001b[1;33m\u001b[0m\u001b[0m\n\u001b[1;32m----> 2\u001b[1;33m \u001b[1;32mfor\u001b[0m \u001b[0mc\u001b[0m \u001b[1;32min\u001b[0m \u001b[0mtest\u001b[0m\u001b[1;33m:\u001b[0m\u001b[1;33m\u001b[0m\u001b[0m\n\u001b[0m\u001b[0;32m      3\u001b[0m     \u001b[0mc\u001b[0m \u001b[1;33m=\u001b[0m \u001b[0mc\u001b[0m\u001b[1;33m%\u001b[0m\u001b[1;36m6\u001b[0m\u001b[1;33m\u001b[0m\u001b[0m\n\u001b[0;32m      4\u001b[0m     \u001b[0mencodedPhrase\u001b[0m \u001b[1;33m=\u001b[0m \u001b[0mencodedPhrase\u001b[0m \u001b[1;33m+\u001b[0m \u001b[0mc\u001b[0m\u001b[1;33m\u001b[0m\u001b[0m\n\u001b[0;32m      5\u001b[0m \u001b[1;33m\u001b[0m\u001b[0m\n",
      "\u001b[1;31mTypeError\u001b[0m: 'int' object is not iterable"
     ]
    }
   ],
   "source": [
    "test = \"456789\"\n",
    "for c in test:\n",
    "    c = c%6\n",
    "    encodedPhrase = encodedPhrase + c\n",
    "    \n",
    "print(encodedPhrase)\n"
   ]
  },
  {
   "cell_type": "code",
   "execution_count": 41,
   "metadata": {},
   "outputs": [
    {
     "name": "stdout",
     "output_type": "stream",
     "text": [
      "A\n"
     ]
    }
   ],
   "source": [
    "c = \"a\"\n",
    "c= c.upper()\n",
    "print(c)\n"
   ]
  },
  {
   "cell_type": "code",
   "execution_count": 40,
   "metadata": {},
   "outputs": [
    {
     "data": {
      "text/plain": [
       "<function str.upper()>"
      ]
     },
     "execution_count": 40,
     "metadata": {},
     "output_type": "execute_result"
    }
   ],
   "source": []
  },
  {
   "cell_type": "code",
   "execution_count": null,
   "metadata": {},
   "outputs": [],
   "source": []
  }
 ],
 "metadata": {
  "kernelspec": {
   "display_name": "Python 3",
   "language": "python",
   "name": "python3"
  },
  "language_info": {
   "codemirror_mode": {
    "name": "ipython",
    "version": 3
   },
   "file_extension": ".py",
   "mimetype": "text/x-python",
   "name": "python",
   "nbconvert_exporter": "python",
   "pygments_lexer": "ipython3",
   "version": "3.7.0"
  }
 },
 "nbformat": 4,
 "nbformat_minor": 2
}
