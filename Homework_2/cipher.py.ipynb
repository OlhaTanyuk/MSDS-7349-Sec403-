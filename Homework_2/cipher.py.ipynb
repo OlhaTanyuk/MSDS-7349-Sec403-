{
 "cells": [
  {
   "cell_type": "markdown",
   "metadata": {},
   "source": [
    "# Intro Code"
   ]
  },
  {
   "cell_type": "code",
   "execution_count": null,
   "metadata": {},
   "outputs": [],
   "source": [
    "letter = 'a'\n",
    "#converts a letter to ascii code \n",
    "asciiCode = ord(letter)\n",
    "#converts ascii code to a letter \n",
    "letterRes = chr(asciiCode)\n",
    "print (asciiCode, letterRes)"
   ]
  },
  {
   "cell_type": "markdown",
   "metadata": {},
   "source": [
    "# Question 1"
   ]
  },
  {
   "cell_type": "markdown",
   "metadata": {},
   "source": [
    "### Part 1"
   ]
  },
  {
   "cell_type": "code",
   "execution_count": null,
   "metadata": {},
   "outputs": [],
   "source": [
    "# get text for exercise \n",
    "Text_to_Encrypt= input(\"what string you would like to encrypt: \")\n",
    "Shift_Value = int(input(\"what shift value would you like to use: \"))\n",
    "a=0\n",
    "encodedPhrase = \"\"\n",
    "for c in Text_to_Encrypt:\n",
    "    encodedPhrase = encodedPhrase + c\n",
    " \n",
    "    print(encodedPhrase)\n",
    "    \n",
    "\n",
    "\n"
   ]
  },
  {
   "cell_type": "markdown",
   "metadata": {},
   "source": [
    "### Part 2"
   ]
  },
  {
   "cell_type": "code",
   "execution_count": null,
   "metadata": {},
   "outputs": [],
   "source": [
    "# get text for exercise \n",
    "Text_to_Encrypt= input(\"what string you would like to encrypt: \")\n",
    "Shift_Value = int(input(\"what shift value would you like to use: \"))\n",
    "\n",
    "encodedPhrase = \"\"\n",
    "\n",
    "for c in Text_to_Encrypt:\n",
    "    \n",
    "    if c.isalpha() == False:\n",
    "        c = c\n",
    "    elif c.isupper() == True: \n",
    "        c = \"X\"\n",
    "    else:\n",
    "        c = \"x\"  \n",
    "        \n",
    "    encodedPhrase = encodedPhrase + c\n",
    "\n",
    "print (encodedPhrase)"
   ]
  },
  {
   "cell_type": "markdown",
   "metadata": {},
   "source": [
    "### Part 3"
   ]
  },
  {
   "cell_type": "code",
   "execution_count": 1,
   "metadata": {},
   "outputs": [
    {
     "name": "stdout",
     "output_type": "stream",
     "text": [
      "what string you would like to encrypt: Hi there\n",
      "what shift value would you like to use: 4\n",
      "Lm xlivi\n"
     ]
    }
   ],
   "source": [
    "## get text for exercise \n",
    "Text_to_Encrypt= input(\"what string you would like to encrypt: \")\n",
    "Shift_Value = int(input(\"what shift value would you like to use: \"))\n",
    "\n",
    "encodedPhrase = \"\"\n",
    "\n",
    "for c in Text_to_Encrypt:# loop through each char in the string\n",
    "    \n",
    "    if c.isalpha() == False:# check to see if character is a letter. if not, do nothing\n",
    "        c = c\n",
    "        \n",
    "   #Upper case logic  \n",
    "\n",
    "\n",
    "    elif c.isupper() == True: #check if the character is uppercase \n",
    "        asciiCode = (ord(c))+ Shift_Value\n",
    "        \n",
    "        if asciiCode > 90: # if the char will loop past z, - off 26 to cycle through the alphabet again\n",
    "            asciiCode= asciiCode - 26   \n",
    "        letterRes = chr(asciiCode)\n",
    "        c = letterRes\n",
    "\n",
    "    #Lower case  Logic\n",
    "\n",
    "    else:\n",
    "        asciiCode = ord(c)+ Shift_Value\n",
    "        \n",
    "        if asciiCode > 122:# if the char will loop past z, - off 26 to cycle through the alphabet again\n",
    "            asciiCode= asciiCode - 26   \n",
    "        letterRes = chr(asciiCode)\n",
    "        c = letterRes\n",
    "        \n",
    "        \n",
    "    encodedPhrase = encodedPhrase + c\n",
    "\n",
    "print (encodedPhrase)"
   ]
  },
  {
   "cell_type": "markdown",
   "metadata": {},
   "source": [
    "# Question 2"
   ]
  },
  {
   "cell_type": "code",
   "execution_count": null,
   "metadata": {},
   "outputs": [],
   "source": []
  },
  {
   "cell_type": "code",
   "execution_count": null,
   "metadata": {},
   "outputs": [],
   "source": []
  },
  {
   "cell_type": "code",
   "execution_count": null,
   "metadata": {},
   "outputs": [],
   "source": []
  },
  {
   "cell_type": "code",
   "execution_count": null,
   "metadata": {},
   "outputs": [],
   "source": []
  },
  {
   "cell_type": "code",
   "execution_count": null,
   "metadata": {},
   "outputs": [],
   "source": []
  }
 ],
 "metadata": {
  "kernelspec": {
   "display_name": "Python 3",
   "language": "python",
   "name": "python3"
  },
  "language_info": {
   "codemirror_mode": {
    "name": "ipython",
    "version": 3
   },
   "file_extension": ".py",
   "mimetype": "text/x-python",
   "name": "python",
   "nbconvert_exporter": "python",
   "pygments_lexer": "ipython3",
   "version": "3.7.0"
  }
 },
 "nbformat": 4,
 "nbformat_minor": 2
}
